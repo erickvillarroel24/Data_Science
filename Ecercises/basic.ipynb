{
 "cells": [
  {
   "cell_type": "code",
   "execution_count": 47,
   "metadata": {
    "collapsed": true,
    "ExecuteTime": {
     "end_time": "2023-12-01T06:15:57.679405Z",
     "start_time": "2023-12-01T06:15:55.718307100Z"
    }
   },
   "outputs": [],
   "source": [
    "import pandas as pd\n",
    "import ssl\n",
    "tables = pd.read_html(\"https://en.wikipedia.org/wiki/2022_FIFA_World_Cup\")"
   ]
  },
  {
   "cell_type": "code",
   "execution_count": 49,
   "outputs": [
    {
     "name": "stdout",
     "output_type": "stream",
     "text": [
      "   Pos      Teamvte  Pld  W  D  L  GF  GA  GD  Pts               Qualification\n",
      "0    1  Netherlands    3  2  1  0   5   1  +4    7  Advanced to knockout stage\n",
      "1    2      Senegal    3  2  0  1   5   4  +1    6  Advanced to knockout stage\n",
      "2    3      Ecuador    3  1  1  1   4   3  +1    4                         NaN\n",
      "3    4    Qatar (H)    3  0  0  3   1   7  −6    0                         NaN\n",
      "   Pos        Teamvte  Pld  W  D  L  GF  GA  GD  Pts  \\\n",
      "0    1        England    3  2  1  0   9   2  +7    7   \n",
      "1    2  United States    3  1  2  0   2   1  +1    5   \n",
      "2    3           Iran    3  1  0  2   4   7  −3    3   \n",
      "3    4          Wales    3  0  1  2   1   6  −5    1   \n",
      "\n",
      "                Qualification  \n",
      "0  Advanced to knockout stage  \n",
      "1  Advanced to knockout stage  \n",
      "2                         NaN  \n",
      "3                         NaN  \n",
      "   Pos       Teamvte  Pld  W  D  L  GF  GA  GD  Pts  \\\n",
      "0    1     Argentina    3  2  0  1   5   2  +3    6   \n",
      "1    2        Poland    3  1  1  1   2   2   0    4   \n",
      "2    3        Mexico    3  1  1  1   2   3  −1    4   \n",
      "3    4  Saudi Arabia    3  1  0  2   3   5  −2    3   \n",
      "\n",
      "                Qualification  \n",
      "0  Advanced to knockout stage  \n",
      "1  Advanced to knockout stage  \n",
      "2                         NaN  \n",
      "3                         NaN  \n",
      "   Pos    Teamvte  Pld  W  D  L  GF  GA  GD  Pts               Qualification\n",
      "0    1     France    3  2  0  1   6   3  +3    6  Advanced to knockout stage\n",
      "1    2  Australia    3  2  0  1   3   4  −1    6  Advanced to knockout stage\n",
      "2    3    Tunisia    3  1  1  1   1   1   0    4                         NaN\n",
      "3    4    Denmark    3  0  1  2   1   3  −2    1                         NaN\n",
      "   Pos     Teamvte  Pld  W  D  L  GF  GA  GD  Pts               Qualification\n",
      "0    1       Japan    3  2  0  1   4   3  +1    6  Advanced to knockout stage\n",
      "1    2       Spain    3  1  1  1   9   3  +6    4  Advanced to knockout stage\n",
      "2    3     Germany    3  1  1  1   6   5  +1    4                         NaN\n",
      "3    4  Costa Rica    3  1  0  2   3  11  −8    3                         NaN\n",
      "   Pos  Teamvte  Pld  W  D  L  GF  GA  GD  Pts               Qualification\n",
      "0    1  Morocco    3  2  1  0   4   1  +3    7  Advanced to knockout stage\n",
      "1    2  Croatia    3  1  2  0   4   1  +3    5  Advanced to knockout stage\n",
      "2    3  Belgium    3  1  1  1   1   2  −1    4                         NaN\n",
      "3    4   Canada    3  0  0  3   2   7  −5    0                         NaN\n",
      "   Pos      Teamvte  Pld  W  D  L  GF  GA  GD  Pts               Qualification\n",
      "0    1       Brazil    3  2  0  1   3   1  +2    6  Advanced to knockout stage\n",
      "1    2  Switzerland    3  2  0  1   4   3  +1    6  Advanced to knockout stage\n",
      "2    3     Cameroon    3  1  1  1   4   4   0    4                         NaN\n",
      "3    4       Serbia    3  0  1  2   5   8  −3    1                         NaN\n",
      "   Pos      Teamvte  Pld  W  D  L  GF  GA  GD  Pts               Qualification\n",
      "0    1     Portugal    3  2  0  1   6   4  +2    6  Advanced to knockout stage\n",
      "1    2  South Korea    3  1  1  1   4   4   0    4  Advanced to knockout stage\n",
      "2    3      Uruguay    3  1  1  1   2   2   0    4                         NaN\n",
      "3    4        Ghana    3  1  0  2   5   7  −2    3                         NaN\n"
     ]
    }
   ],
   "source": [
    "tables = pd.read_html(\"https://en.wikipedia.org/wiki/2022_FIFA_World_Cup\")\n",
    "for i in range(9,65,7):\n",
    "    print(tables[i])\n",
    "\n"
   ],
   "metadata": {
    "collapsed": false,
    "ExecuteTime": {
     "end_time": "2023-12-01T06:16:43.900190300Z",
     "start_time": "2023-12-01T06:16:42.001567Z"
    }
   }
  },
  {
   "cell_type": "code",
   "execution_count": null,
   "outputs": [],
   "source": [],
   "metadata": {
    "collapsed": false
   }
  }
 ],
 "metadata": {
  "kernelspec": {
   "display_name": "Python 3",
   "language": "python",
   "name": "python3"
  },
  "language_info": {
   "codemirror_mode": {
    "name": "ipython",
    "version": 2
   },
   "file_extension": ".py",
   "mimetype": "text/x-python",
   "name": "python",
   "nbconvert_exporter": "python",
   "pygments_lexer": "ipython2",
   "version": "2.7.6"
  }
 },
 "nbformat": 4,
 "nbformat_minor": 0
}
